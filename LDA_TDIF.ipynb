{
 "cells": [
  {
   "cell_type": "code",
   "execution_count": 1,
   "metadata": {},
   "outputs": [],
   "source": [
    "import numpy as np\n",
    "import pandas as pd\n",
    "import re\n",
    "from nltk.corpus import stopwords\n",
    "from nltk.stem.porter import PorterStemmer\n",
    "import gensim"
   ]
  },
  {
   "cell_type": "code",
   "execution_count": 2,
   "metadata": {},
   "outputs": [],
   "source": [
    "from gensim import corpora,models"
   ]
  },
  {
   "cell_type": "code",
   "execution_count": 3,
   "metadata": {},
   "outputs": [],
   "source": [
    "stop = stopwords.words('english')"
   ]
  },
  {
   "cell_type": "code",
   "execution_count": 4,
   "metadata": {},
   "outputs": [],
   "source": [
    "a1 = pd.read_csv('content_reading1.csv',index_col=0)\n",
    "a2 = pd.read_csv('content_reading2.csv',index_col=0)\n",
    "a3 = pd.read_csv('content_reading3.csv',index_col=0)\n",
    "a4 = pd.read_csv('content_reading4.csv',index_col=0)"
   ]
  },
  {
   "cell_type": "code",
   "execution_count": 5,
   "metadata": {},
   "outputs": [],
   "source": [
    "documents = pd.concat([a1,a2,a3,a4],ignore_index=True)"
   ]
  },
  {
   "cell_type": "code",
   "execution_count": 6,
   "metadata": {},
   "outputs": [],
   "source": [
    "documents = documents.drop_duplicates()"
   ]
  },
  {
   "cell_type": "code",
   "execution_count": 7,
   "metadata": {},
   "outputs": [
    {
     "data": {
      "text/html": [
       "<div>\n",
       "<style scoped>\n",
       "    .dataframe tbody tr th:only-of-type {\n",
       "        vertical-align: middle;\n",
       "    }\n",
       "\n",
       "    .dataframe tbody tr th {\n",
       "        vertical-align: top;\n",
       "    }\n",
       "\n",
       "    .dataframe thead th {\n",
       "        text-align: right;\n",
       "    }\n",
       "</style>\n",
       "<table border=\"1\" class=\"dataframe\">\n",
       "  <thead>\n",
       "    <tr style=\"text-align: right;\">\n",
       "      <th></th>\n",
       "      <th>content</th>\n",
       "    </tr>\n",
       "  </thead>\n",
       "  <tbody>\n",
       "    <tr>\n",
       "      <th>0</th>\n",
       "      <td>There are some lovely people here who'll help ...</td>\n",
       "    </tr>\n",
       "    <tr>\n",
       "      <th>1</th>\n",
       "      <td>\"Aha!!\" Answers - little chat, just post your ...</td>\n",
       "    </tr>\n",
       "    <tr>\n",
       "      <th>2</th>\n",
       "      <td>Most people seem to get started with the Yijin...</td>\n",
       "    </tr>\n",
       "    <tr>\n",
       "      <th>3</th>\n",
       "      <td>VisionThe I Ching Community is a warm and open...</td>\n",
       "    </tr>\n",
       "    <tr>\n",
       "      <th>4</th>\n",
       "      <td>This forum is for people to share their I Chin...</td>\n",
       "    </tr>\n",
       "    <tr>\n",
       "      <th>...</th>\n",
       "      <td>...</td>\n",
       "    </tr>\n",
       "    <tr>\n",
       "      <th>16000</th>\n",
       "      <td>A blurred relationship in the middle of an unc...</td>\n",
       "    </tr>\n",
       "    <tr>\n",
       "      <th>16001</th>\n",
       "      <td>Second time my commentaries had readed as \"my ...</td>\n",
       "    </tr>\n",
       "    <tr>\n",
       "      <th>16002</th>\n",
       "      <td>I asked  \"what am I made of? do I have it with...</td>\n",
       "    </tr>\n",
       "    <tr>\n",
       "      <th>16003</th>\n",
       "      <td>Hello All. I just joined your little group, an...</td>\n",
       "    </tr>\n",
       "    <tr>\n",
       "      <th>16004</th>\n",
       "      <td>I'm on a two-month stay living with my parents...</td>\n",
       "    </tr>\n",
       "  </tbody>\n",
       "</table>\n",
       "<p>15997 rows × 1 columns</p>\n",
       "</div>"
      ],
      "text/plain": [
       "                                                 content\n",
       "0      There are some lovely people here who'll help ...\n",
       "1      \"Aha!!\" Answers - little chat, just post your ...\n",
       "2      Most people seem to get started with the Yijin...\n",
       "3      VisionThe I Ching Community is a warm and open...\n",
       "4      This forum is for people to share their I Chin...\n",
       "...                                                  ...\n",
       "16000  A blurred relationship in the middle of an unc...\n",
       "16001  Second time my commentaries had readed as \"my ...\n",
       "16002  I asked  \"what am I made of? do I have it with...\n",
       "16003  Hello All. I just joined your little group, an...\n",
       "16004  I'm on a two-month stay living with my parents...\n",
       "\n",
       "[15997 rows x 1 columns]"
      ]
     },
     "execution_count": 7,
     "metadata": {},
     "output_type": "execute_result"
    }
   ],
   "source": [
    "documents"
   ]
  },
  {
   "cell_type": "code",
   "execution_count": 33,
   "metadata": {},
   "outputs": [
    {
     "data": {
      "text/plain": [
       "\"Further to this thread.... https://www.onlineclarity.co.uk/friends/index.php?threads/what-is-the-situation-60-8.31679/The owner/boss has been a bit flakey (or something).I cold canvassed this job (via email) a couple of months ago and she said there's no work try again closer to Easter but a couple of weeks ago I asked again. She emailed me suggesting we meet but then she said she couldn't meet at the times I suggested but why don't I just go into the (childcare) centre and see if I like it and if I like it, let her know and we'll set up a meeting from there the following week.I did all she asked of me but she didn't respond within a week (before that she'd been a very effective communicator) so I emailed her again thanking her for her time but I'm assuming she's not interested.48 hours later she emailed me apologising for her 'tardiness' made her excuses and suggested we meet at a certain time which she ended up changing and again I fitted in around her.She never promised me more than casual work although I was hoping for more, particularly as I'm used to employers jumping at the chance for me to work for them based on my experience.The meeting was a bit unusual and she told me how to do my job and after half an hour offered me a trial shift in a weeks time.So all in all since emailing her for the second time (re cold canvass) it's going to be a month from woe to go just for a trial shift with no definite of a job offer. I felt I already did my trial (unpaid) shift when I went in a checked it out, and I was happy to do that but it's all just a bit much really. I will get paid for this next trial shift but hmmmmAnyway I asked How worthwhile is it for me to pursue a job with this companyHexagram 40.2>16I wonder if it's just my Enthusiasm that's making me think she's got a hidden agenda and I'm just getting a bit carried away.The reading looks like I should just go in and do the shift and see if my misgivings are true.When I did go in a couple of weeks ago the other staff and I really took to each other as did the other Owner of the company but he's not the hire/fire person so to be honest I don't really understand what's going on.\""
      ]
     },
     "execution_count": 33,
     "metadata": {},
     "output_type": "execute_result"
    }
   ],
   "source": [
    "documents['content'][5]"
   ]
  },
  {
   "cell_type": "code",
   "execution_count": 8,
   "metadata": {},
   "outputs": [
    {
     "data": {
      "text/plain": [
       "'I\\'m on a two-month stay living with my parents as I work from home at my office job. This is a temporary situation; i haven\\'t lived with them (for more than a two-week stay) in more than 16 years.My mother has always had controlling tendencies but my stay has been OK so far until tonight. She sat me down to have a conversation about some intimate details of my life that I do not discuss with her and that IMHO are none of her business -- not as a mother. There are certain things I just do not and cannot share with her and these are top of the list. Partly bc growing up these things were never discussed. In actuality there is much about my life she doesn\\'t know and that is fine by me bc she knows more than most parents do.However in our \"discussion\"(in which she attacked me and accused me of not wanting to discuss it) she blew up and brought up issues from 16 years ago. I had been dreading this before I came for the visit bc i never know what lies temporarily dormant beneath the surface. Her attacks leave me feeling the need to hermit and isolate myself and be entirely alone. I attempted to level-headedly explain my point of view but despite her verbal desire to \"talk\"she would not listen to what I said (or believe what I said).I asked the Yi what is going on with her. It gave me 1.1.2.3 and Hex 12 (stagnation).I gather that means (line 1) it is not time to act (for her??); (line2) Truth spoken at the incorrect time becomes untruth, correct action prematurily undertaken can create pain and heartache. (which she did) and (line 3) the situation is dangerous although you hold no fault in your approach (either her approach was faultless, or mine was; not sure which).I followed up with a question about who is to blame (because maybe I am interpreting this all wrong and she is totally right in her approach or right in her ideas and I am totally wrong). It gave me Hex58.2.4 and then Hex. 3, difficulty at the beginning. Those details of Hex 58 and 3 are:58. The Joyous. Success. Perseverance is favorable.The Image: Lakes resting on one another: The image of the Joyous. Thus the superior man joins with his friends For discussion and practice.line 2: Sincere joyousness. Good fortune. Remorse disappears.line 4: Joyousness that is weighed is not at peace. After ridding himself of mistakes a man has joy.Hex 3. Difficulty at the BeginningsDifficulty at the Beginning works supreme success,Furthering through perseverance.Nothing should be undertaken.It furthers one to appoint helpers.The ImageClouds and thunder:The image of Difficulty at the Beginning.Thus the superior manBrings order out of confusion.I\"d like to know if there is another way I should approach this. Or if i\\'m right in my assumptions, approach, and reactions.'"
      ]
     },
     "execution_count": 8,
     "metadata": {},
     "output_type": "execute_result"
    }
   ],
   "source": [
    "documents['content'][16004]"
   ]
  },
  {
   "cell_type": "code",
   "execution_count": 11,
   "metadata": {},
   "outputs": [],
   "source": [
    "a = documents.duplicated()"
   ]
  },
  {
   "cell_type": "code",
   "execution_count": 15,
   "metadata": {},
   "outputs": [
    {
     "data": {
      "text/plain": [
       "Int64Index([2535, 4005, 5233, 12356, 14458, 14799, 15109, 15934], dtype='int64')"
      ]
     },
     "execution_count": 15,
     "metadata": {},
     "output_type": "execute_result"
    }
   ],
   "source": [
    "documents.index[a]"
   ]
  },
  {
   "cell_type": "code",
   "execution_count": 27,
   "metadata": {},
   "outputs": [
    {
     "data": {
      "text/plain": [
       "content    It's Monday morning and I have been seized wit...\n",
       "Name: 4005, dtype: object"
      ]
     },
     "execution_count": 27,
     "metadata": {},
     "output_type": "execute_result"
    }
   ],
   "source": [
    "documents.iloc[4005,:]"
   ]
  },
  {
   "cell_type": "code",
   "execution_count": 17,
   "metadata": {},
   "outputs": [
    {
     "data": {
      "text/plain": [
       "content    Hello everyone,There is this female dj I have ...\n",
       "Name: 2535, dtype: object"
      ]
     },
     "execution_count": 17,
     "metadata": {},
     "output_type": "execute_result"
    }
   ],
   "source": [
    "documents.iloc[2535,:]"
   ]
  },
  {
   "cell_type": "code",
   "execution_count": 8,
   "metadata": {},
   "outputs": [],
   "source": [
    "corpus=[]\n",
    "for doc in documents.content:\n",
    "    text=re.sub('[^a-zA-z]',' ', doc)\n",
    "    text=text.lower()\n",
    "    text=text.split()\n",
    "    text=[PorterStemmer().stem(word) for word in text if not word in stop]\n",
    "    text=' '.join(text)\n",
    "    corpus.append(text)"
   ]
  },
  {
   "cell_type": "code",
   "execution_count": 9,
   "metadata": {},
   "outputs": [],
   "source": [
    "documents['clean_content'] = corpus"
   ]
  },
  {
   "cell_type": "code",
   "execution_count": 10,
   "metadata": {},
   "outputs": [
    {
     "data": {
      "text/html": [
       "<div>\n",
       "<style scoped>\n",
       "    .dataframe tbody tr th:only-of-type {\n",
       "        vertical-align: middle;\n",
       "    }\n",
       "\n",
       "    .dataframe tbody tr th {\n",
       "        vertical-align: top;\n",
       "    }\n",
       "\n",
       "    .dataframe thead th {\n",
       "        text-align: right;\n",
       "    }\n",
       "</style>\n",
       "<table border=\"1\" class=\"dataframe\">\n",
       "  <thead>\n",
       "    <tr style=\"text-align: right;\">\n",
       "      <th></th>\n",
       "      <th>content</th>\n",
       "      <th>clean_content</th>\n",
       "    </tr>\n",
       "  </thead>\n",
       "  <tbody>\n",
       "    <tr>\n",
       "      <th>0</th>\n",
       "      <td>There are some lovely people here who'll help ...</td>\n",
       "      <td>love peopl help understand read make easier he...</td>\n",
       "    </tr>\n",
       "    <tr>\n",
       "      <th>1</th>\n",
       "      <td>\"Aha!!\" Answers - little chat, just post your ...</td>\n",
       "      <td>aha answer littl chat post favourit encourag r...</td>\n",
       "    </tr>\n",
       "    <tr>\n",
       "      <th>2</th>\n",
       "      <td>Most people seem to get started with the Yijin...</td>\n",
       "      <td>peopl seem get start yije ask relationship goo...</td>\n",
       "    </tr>\n",
       "    <tr>\n",
       "      <th>3</th>\n",
       "      <td>VisionThe I Ching Community is a warm and open...</td>\n",
       "      <td>visionth ching commun warm open place free wid...</td>\n",
       "    </tr>\n",
       "    <tr>\n",
       "      <th>4</th>\n",
       "      <td>This forum is for people to share their I Chin...</td>\n",
       "      <td>forum peopl share ching read exchang insight m...</td>\n",
       "    </tr>\n",
       "  </tbody>\n",
       "</table>\n",
       "</div>"
      ],
      "text/plain": [
       "                                             content  \\\n",
       "0  There are some lovely people here who'll help ...   \n",
       "1  \"Aha!!\" Answers - little chat, just post your ...   \n",
       "2  Most people seem to get started with the Yijin...   \n",
       "3  VisionThe I Ching Community is a warm and open...   \n",
       "4  This forum is for people to share their I Chin...   \n",
       "\n",
       "                                       clean_content  \n",
       "0  love peopl help understand read make easier he...  \n",
       "1  aha answer littl chat post favourit encourag r...  \n",
       "2  peopl seem get start yije ask relationship goo...  \n",
       "3  visionth ching commun warm open place free wid...  \n",
       "4  forum peopl share ching read exchang insight m...  "
      ]
     },
     "execution_count": 10,
     "metadata": {},
     "output_type": "execute_result"
    }
   ],
   "source": [
    "documents.head()"
   ]
  },
  {
   "cell_type": "code",
   "execution_count": 11,
   "metadata": {},
   "outputs": [],
   "source": [
    "processed_docs = documents.clean_content.str.split()"
   ]
  },
  {
   "cell_type": "code",
   "execution_count": 12,
   "metadata": {},
   "outputs": [
    {
     "data": {
      "text/plain": [
       "0        [love, peopl, help, understand, read, make, ea...\n",
       "1        [aha, answer, littl, chat, post, favourit, enc...\n",
       "2        [peopl, seem, get, start, yije, ask, relations...\n",
       "3        [visionth, ching, commun, warm, open, place, f...\n",
       "4        [forum, peopl, share, ching, read, exchang, in...\n",
       "                               ...                        \n",
       "16000    [blur, relationship, middl, unclear, break, as...\n",
       "16001    [second, time, commentari, read, point, view, ...\n",
       "16002    [ask, made, within, get, truli, want, life, fa...\n",
       "16003    [hello, join, littl, group, want, introduc, wo...\n",
       "16004    [two, month, stay, live, parent, work, home, o...\n",
       "Name: clean_content, Length: 16005, dtype: object"
      ]
     },
     "execution_count": 12,
     "metadata": {},
     "output_type": "execute_result"
    }
   ],
   "source": [
    "processed_docs"
   ]
  },
  {
   "cell_type": "code",
   "execution_count": 13,
   "metadata": {},
   "outputs": [],
   "source": [
    "dictionary=gensim.corpora.Dictionary(processed_docs)"
   ]
  },
  {
   "cell_type": "code",
   "execution_count": 14,
   "metadata": {},
   "outputs": [
    {
     "name": "stdout",
     "output_type": "stream",
     "text": [
      "0 actual\n",
      "1 ad\n",
      "2 address\n",
      "3 answer\n",
      "4 archiv\n",
      "5 ask\n",
      "6 aug\n",
      "7 b\n",
      "8 background\n",
      "9 besid\n",
      "10 brows\n",
      "11 click\n",
      "12 come\n",
      "13 contact\n",
      "14 context\n",
      "15 easier\n",
      "16 edit\n",
      "17 eg\n",
      "18 emphasi\n",
      "19 enough\n",
      "20 everyon\n"
     ]
    }
   ],
   "source": [
    "count=0\n",
    "for k,v in dictionary.iteritems():\n",
    "    print(k,v)\n",
    "    count+=1\n",
    "    if count>20:\n",
    "        break"
   ]
  },
  {
   "cell_type": "code",
   "execution_count": 15,
   "metadata": {},
   "outputs": [],
   "source": [
    "dictionary.filter_extremes(no_below=10,no_above=0.3,keep_n=1000)"
   ]
  },
  {
   "cell_type": "code",
   "execution_count": 16,
   "metadata": {},
   "outputs": [
    {
     "data": {
      "text/plain": [
       "1000"
      ]
     },
     "execution_count": 16,
     "metadata": {},
     "output_type": "execute_result"
    }
   ],
   "source": [
    "len(dictionary)"
   ]
  },
  {
   "cell_type": "code",
   "execution_count": 17,
   "metadata": {},
   "outputs": [
    {
     "data": {
      "text/plain": [
       "'apr'"
      ]
     },
     "execution_count": 17,
     "metadata": {},
     "output_type": "execute_result"
    }
   ],
   "source": [
    "dictionary[999]"
   ]
  },
  {
   "cell_type": "code",
   "execution_count": 18,
   "metadata": {},
   "outputs": [],
   "source": [
    "bow_corpus=[dictionary.doc2bow(doc) for doc in processed_docs]"
   ]
  },
  {
   "cell_type": "code",
   "execution_count": 19,
   "metadata": {},
   "outputs": [
    {
     "data": {
      "text/plain": [
       "16005"
      ]
     },
     "execution_count": 19,
     "metadata": {},
     "output_type": "execute_result"
    }
   ],
   "source": [
    "len(bow_corpus)"
   ]
  },
  {
   "cell_type": "code",
   "execution_count": 21,
   "metadata": {},
   "outputs": [
    {
     "name": "stdout",
     "output_type": "stream",
     "text": [
      "Word 11 (\"everyon\") appears 1 time.\n",
      "Word 17 (\"hexagram\") appears 3 time.\n",
      "Word 26 (\"need\") appears 1 time.\n",
      "Word 28 (\"peopl\") appears 1 time.\n",
      "Word 36 (\"result\") appears 2 time.\n",
      "Word 38 (\"say\") appears 1 time.\n",
      "Word 49 (\"understand\") appears 1 time.\n",
      "Word 59 (\"ching\") appears 1 time.\n",
      "Word 77 (\"give\") appears 1 time.\n",
      "Word 92 (\"mean\") appears 1 time.\n",
      "Word 99 (\"often\") appears 1 time.\n",
      "Word 104 (\"place\") appears 1 time.\n",
      "Word 109 (\"relationship\") appears 1 time.\n",
      "Word 121 (\"tell\") appears 1 time.\n",
      "Word 135 (\"alreadi\") appears 1 time.\n",
      "Word 166 (\"could\") appears 2 time.\n",
      "Word 193 (\"futur\") appears 1 time.\n",
      "Word 205 (\"lead\") appears 1 time.\n",
      "Word 213 (\"may\") appears 1 time.\n",
      "Word 229 (\"possibl\") appears 1 time.\n",
      "Word 233 (\"provid\") appears 1 time.\n",
      "Word 251 (\"stop\") appears 1 time.\n",
      "Word 260 (\"tri\") appears 1 time.\n",
      "Word 267 (\"without\") appears 1 time.\n",
      "Word 268 (\"work\") appears 1 time.\n",
      "Word 273 (\"action\") appears 1 time.\n",
      "Word 302 (\"given\") appears 1 time.\n",
      "Word 309 (\"job\") appears 1 time.\n",
      "Word 312 (\"left\") appears 1 time.\n",
      "Word 315 (\"mani\") appears 1 time.\n",
      "Word 342 (\"visit\") appears 1 time.\n",
      "Word 357 (\"around\") appears 1 time.\n",
      "Word 393 (\"detail\") appears 1 time.\n",
      "Word 419 (\"reach\") appears 1 time.\n",
      "Word 421 (\"similar\") appears 1 time.\n",
      "Word 462 (\"long\") appears 1 time.\n",
      "Word 465 (\"simpli\") appears 1 time.\n",
      "Word 479 (\"opportun\") appears 1 time.\n",
      "Word 488 (\"term\") appears 1 time.\n",
      "Word 490 (\"indic\") appears 1 time.\n",
      "Word 512 (\"repeat\") appears 1 time.\n",
      "Word 528 (\"continu\") appears 1 time.\n",
      "Word 602 (\"countri\") appears 1 time.\n",
      "Word 650 (\"import\") appears 1 time.\n",
      "Word 676 (\"particular\") appears 1 time.\n",
      "Word 682 (\"figur\") appears 1 time.\n",
      "Word 738 (\"area\") appears 1 time.\n",
      "Word 749 (\"wind\") appears 2 time.\n",
      "Word 763 (\"organ\") appears 3 time.\n",
      "Word 793 (\"point\") appears 1 time.\n",
      "Word 807 (\"variou\") appears 1 time.\n",
      "Word 849 (\"extrem\") appears 1 time.\n",
      "Word 873 (\"establish\") appears 2 time.\n",
      "Word 940 (\"straight\") appears 1 time.\n"
     ]
    }
   ],
   "source": [
    "bow_corpus_100=bow_corpus[100]\n",
    "for i in range(len(bow_corpus_100)):\n",
    "    print(\"Word {} (\\\"{}\\\") appears {} time.\".format(bow_corpus_100[i][0], \n",
    "                                                     dictionary[bow_corpus_100[i][0]], \n",
    "                                                     bow_corpus_100[i][1]))"
   ]
  },
  {
   "cell_type": "code",
   "execution_count": 22,
   "metadata": {},
   "outputs": [],
   "source": [
    "tfidf=models.TfidfModel(bow_corpus)"
   ]
  },
  {
   "cell_type": "code",
   "execution_count": 23,
   "metadata": {},
   "outputs": [],
   "source": [
    "corpus_tfidf=tfidf[bow_corpus]"
   ]
  },
  {
   "cell_type": "code",
   "execution_count": 24,
   "metadata": {},
   "outputs": [
    {
     "data": {
      "text/plain": [
       "[(11, 0.08297869630694811),\n",
       " (17, 0.1370132360948113),\n",
       " (26, 0.04835157266884867),\n",
       " (28, 0.06510638239107026),\n",
       " (36, 0.1698853831903319),\n",
       " (38, 0.04562325531109188),\n",
       " (49, 0.06501127121248618),\n",
       " (59, 0.06017703598141311),\n",
       " (77, 0.06681950211381063),\n",
       " (92, 0.04659187116447117),\n",
       " (99, 0.10991160795843409),\n",
       " (104, 0.07844841578266366),\n",
       " (109, 0.05099517351094465),\n",
       " (121, 0.06840810328339125),\n",
       " (135, 0.09728210466304113),\n",
       " (166, 0.1014568356330565),\n",
       " (193, 0.09173322481123904),\n",
       " (205, 0.10153984540353521),\n",
       " (213, 0.0752735810421925),\n",
       " (229, 0.08061184875054277),\n",
       " (233, 0.13565395374940917),\n",
       " (251, 0.09479976141285056),\n",
       " (260, 0.05538573278389249),\n",
       " (267, 0.08534379197338668),\n",
       " (268, 0.048480582348096886),\n",
       " (273, 0.09821618030549283),\n",
       " (302, 0.11033343152383869),\n",
       " (309, 0.07809678413507908),\n",
       " (312, 0.10062584476913333),\n",
       " (315, 0.073142445269371),\n",
       " (342, 0.13509115502249736),\n",
       " (357, 0.09270759965738716),\n",
       " (393, 0.133900818223394),\n",
       " (419, 0.12162965584201241),\n",
       " (421, 0.13408143195590816),\n",
       " (462, 0.070889219735031),\n",
       " (465, 0.12770350915718082),\n",
       " (479, 0.11866718648765191),\n",
       " (488, 0.1054855318457126),\n",
       " (490, 0.1142098072928608),\n",
       " (512, 0.14870221957276736),\n",
       " (528, 0.09669404459449712),\n",
       " (602, 0.12074041388305007),\n",
       " (650, 0.10414872207213388),\n",
       " (676, 0.1287048775160503),\n",
       " (682, 0.12260716113215032),\n",
       " (738, 0.13301095500663415),\n",
       " (749, 0.32348186139658075),\n",
       " (763, 0.48997053041386035),\n",
       " (793, 0.0862080603767523),\n",
       " (807, 0.15107807670243387),\n",
       " (849, 0.12949435733308684),\n",
       " (873, 0.3227116194490386),\n",
       " (940, 0.15331151312323685)]"
      ]
     },
     "execution_count": 24,
     "metadata": {},
     "output_type": "execute_result"
    }
   ],
   "source": [
    "corpus_tfidf[100]"
   ]
  },
  {
   "cell_type": "markdown",
   "metadata": {},
   "source": [
    "### Model"
   ]
  },
  {
   "cell_type": "code",
   "execution_count": 25,
   "metadata": {},
   "outputs": [],
   "source": [
    "lda_model_tfidf = gensim.models.LdaMulticore(corpus_tfidf, \n",
    "                                             num_topics=4, \n",
    "                                             id2word = dictionary, \n",
    "                                             passes = 2, \n",
    "                                             workers=4)"
   ]
  },
  {
   "cell_type": "code",
   "execution_count": 26,
   "metadata": {},
   "outputs": [
    {
     "data": {
      "text/plain": [
       "-6.52392729056418"
      ]
     },
     "execution_count": 26,
     "metadata": {},
     "output_type": "execute_result"
    }
   ],
   "source": [
    "lda_model_tfidf.log_perplexity(bow_corpus)"
   ]
  },
  {
   "cell_type": "code",
   "execution_count": 27,
   "metadata": {},
   "outputs": [
    {
     "name": "stdout",
     "output_type": "stream",
     "text": [
      "Topic: 0 Word: 0.007*\"relationship\" + 0.007*\"answer\" + 0.006*\"hex\" + 0.006*\"yi\" + 0.005*\"hexagram\" + 0.005*\"x\" + 0.005*\"seem\" + 0.005*\"interpret\" + 0.004*\"receiv\" + 0.004*\"situat\"\n",
      "\n",
      "\n",
      "Topic: 1 Word: 0.007*\"hexagram\" + 0.006*\"relationship\" + 0.005*\"pleas\" + 0.005*\"ching\" + 0.005*\"mean\" + 0.005*\"year\" + 0.004*\"answer\" + 0.004*\"seem\" + 0.004*\"want\" + 0.004*\"new\"\n",
      "\n",
      "\n",
      "Topic: 2 Word: 0.007*\"job\" + 0.005*\"work\" + 0.005*\"hexagram\" + 0.004*\"hex\" + 0.004*\"want\" + 0.004*\"good\" + 0.004*\"say\" + 0.004*\"realli\" + 0.004*\"need\" + 0.004*\"back\"\n",
      "\n",
      "\n",
      "Topic: 3 Word: 0.007*\"hexagram\" + 0.006*\"edit\" + 0.005*\"hex\" + 0.005*\"last\" + 0.004*\"move\" + 0.004*\"relationship\" + 0.004*\"mean\" + 0.004*\"good\" + 0.004*\"say\" + 0.004*\"yi\"\n",
      "\n",
      "\n"
     ]
    }
   ],
   "source": [
    "for idx, topic in lda_model_tfidf.print_topics(-1):\n",
    "    print(\"Topic: {} Word: {}\".format(idx, topic))\n",
    "    print(\"\\n\")"
   ]
  },
  {
   "cell_type": "code",
   "execution_count": 28,
   "metadata": {},
   "outputs": [
    {
     "data": {
      "text/plain": [
       "[(0, 0.037964877), (1, 0.03749353), (2, 0.038273867), (3, 0.8862677)]"
      ]
     },
     "execution_count": 28,
     "metadata": {},
     "output_type": "execute_result"
    }
   ],
   "source": [
    "a = lda_model_tfidf[corpus_tfidf[100]]\n",
    "a"
   ]
  },
  {
   "cell_type": "code",
   "execution_count": 29,
   "metadata": {},
   "outputs": [],
   "source": [
    "topic=[]\n",
    "for i in range(len(corpus_tfidf)):\n",
    "    a = lda_model_tfidf[corpus_tfidf[i]]\n",
    "    a.sort(key=lambda x: x[1],reverse=True)\n",
    "    topic.append([l[0] for l in a if l[1]>0.5])"
   ]
  },
  {
   "cell_type": "code",
   "execution_count": 30,
   "metadata": {},
   "outputs": [],
   "source": [
    "T = []\n",
    "for t in topic:\n",
    "    T.extend(t)"
   ]
  },
  {
   "cell_type": "code",
   "execution_count": 31,
   "metadata": {},
   "outputs": [
    {
     "name": "stdout",
     "output_type": "stream",
     "text": [
      "Topic 0 have 4349 times\n",
      "Topic 1 have 3606 times\n",
      "Topic 2 have 4983 times\n",
      "Topic 3 have 2850 times\n"
     ]
    }
   ],
   "source": [
    "for i in set(T):\n",
    "    print(f'Topic {i} have {T.count(i)} times')"
   ]
  },
  {
   "cell_type": "code",
   "execution_count": null,
   "metadata": {},
   "outputs": [],
   "source": [
    "hexagram,edit,last,move,relationship,mean,good"
   ]
  }
 ],
 "metadata": {
  "kernelspec": {
   "display_name": "Python 3",
   "language": "python",
   "name": "python3"
  },
  "language_info": {
   "codemirror_mode": {
    "name": "ipython",
    "version": 3
   },
   "file_extension": ".py",
   "mimetype": "text/x-python",
   "name": "python",
   "nbconvert_exporter": "python",
   "pygments_lexer": "ipython3",
   "version": "3.7.4"
  }
 },
 "nbformat": 4,
 "nbformat_minor": 4
}
