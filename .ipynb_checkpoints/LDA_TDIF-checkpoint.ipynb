{
 "cells": [
  {
   "cell_type": "code",
   "execution_count": 1,
   "metadata": {},
   "outputs": [],
   "source": [
    "import numpy as np\n",
    "import pandas as pd\n",
    "import re\n",
    "from nltk.corpus import stopwords\n",
    "from nltk.stem.porter import PorterStemmer\n",
    "import gensim"
   ]
  },
  {
   "cell_type": "code",
   "execution_count": 2,
   "metadata": {},
   "outputs": [],
   "source": [
    "from gensim import corpora,models"
   ]
  },
  {
   "cell_type": "code",
   "execution_count": 3,
   "metadata": {},
   "outputs": [],
   "source": [
    "stop = stopwords.words('english')"
   ]
  },
  {
   "cell_type": "code",
   "execution_count": 4,
   "metadata": {},
   "outputs": [],
   "source": [
    "a1 = pd.read_csv('content_reading1.csv',index_col=0)\n",
    "a2 = pd.read_csv('content_reading2.csv',index_col=0)\n",
    "a3 = pd.read_csv('content_reading3.csv',index_col=0)\n",
    "a4 = pd.read_csv('content_reading4.csv',index_col=0)"
   ]
  },
  {
   "cell_type": "code",
   "execution_count": 5,
   "metadata": {},
   "outputs": [],
   "source": [
    "documents = pd.concat([a1,a2,a3,a4],ignore_index=True)"
   ]
  },
  {
   "cell_type": "code",
   "execution_count": 6,
   "metadata": {},
   "outputs": [
    {
     "data": {
      "text/html": [
       "<div>\n",
       "<style scoped>\n",
       "    .dataframe tbody tr th:only-of-type {\n",
       "        vertical-align: middle;\n",
       "    }\n",
       "\n",
       "    .dataframe tbody tr th {\n",
       "        vertical-align: top;\n",
       "    }\n",
       "\n",
       "    .dataframe thead th {\n",
       "        text-align: right;\n",
       "    }\n",
       "</style>\n",
       "<table border=\"1\" class=\"dataframe\">\n",
       "  <thead>\n",
       "    <tr style=\"text-align: right;\">\n",
       "      <th></th>\n",
       "      <th>content</th>\n",
       "    </tr>\n",
       "  </thead>\n",
       "  <tbody>\n",
       "    <tr>\n",
       "      <th>0</th>\n",
       "      <td>There are some lovely people here who'll help ...</td>\n",
       "    </tr>\n",
       "    <tr>\n",
       "      <th>1</th>\n",
       "      <td>\"Aha!!\" Answers - little chat, just post your ...</td>\n",
       "    </tr>\n",
       "    <tr>\n",
       "      <th>2</th>\n",
       "      <td>Most people seem to get started with the Yijin...</td>\n",
       "    </tr>\n",
       "    <tr>\n",
       "      <th>3</th>\n",
       "      <td>VisionThe I Ching Community is a warm and open...</td>\n",
       "    </tr>\n",
       "    <tr>\n",
       "      <th>4</th>\n",
       "      <td>This forum is for people to share their I Chin...</td>\n",
       "    </tr>\n",
       "  </tbody>\n",
       "</table>\n",
       "</div>"
      ],
      "text/plain": [
       "                                             content\n",
       "0  There are some lovely people here who'll help ...\n",
       "1  \"Aha!!\" Answers - little chat, just post your ...\n",
       "2  Most people seem to get started with the Yijin...\n",
       "3  VisionThe I Ching Community is a warm and open...\n",
       "4  This forum is for people to share their I Chin..."
      ]
     },
     "execution_count": 6,
     "metadata": {},
     "output_type": "execute_result"
    }
   ],
   "source": [
    "documents.head()"
   ]
  },
  {
   "cell_type": "code",
   "execution_count": 7,
   "metadata": {},
   "outputs": [
    {
     "data": {
      "text/plain": [
       "\"There are some lovely people here who'll help you understand your reading. Here's how you can make it easier for them to help you:Share...some background and context for your reading - enough for people to understand what it's about.the question you asked, word for word.the answer Yi gave. (Our favourite format is like this: '27.2.5 to 61'.)your own feelings and thoughts about the answer.And ask for feedback!Then when you've read people's responses, please share your thoughts and update people on how it plays out. If you've browsed/searched the archives here you will know that these updates are what really make the forum a treasure - and besides, it's a kindness to the people who responded to you.Please don't miss out step 4! As Trojina said (emphasis added), Trojina said:As you say what you think and feel it opens the gates to the reading as it were. The reading is addressed to your mind so if you share your sense of the reading, the reading is actually more open for everyone to get a feel for it. No experience is needed to do this. All you have to do is read the text and the lines and just write down what comes to mind in how it might relate to your situation.Click to expand...Update:A further request/ suggestion: if you phrase your thread title as 'Question: reading' (eg 'What if I contact him? 59.6>29') then this will make it a) easier for people to see if they have an idea that can help you and b) more useful in the hexagram search results pages.Thank you!Last edited: Aug 2, 2018\""
      ]
     },
     "execution_count": 7,
     "metadata": {},
     "output_type": "execute_result"
    }
   ],
   "source": [
    "documents['content'][0]"
   ]
  },
  {
   "cell_type": "code",
   "execution_count": 8,
   "metadata": {},
   "outputs": [],
   "source": [
    "corpus=[]\n",
    "for doc in documents.content:\n",
    "    text=re.sub('[^a-zA-z]',' ', doc)\n",
    "    text=text.lower()\n",
    "    text=text.split()\n",
    "    text=[PorterStemmer().stem(word) for word in text if not word in stop]\n",
    "    text=' '.join(text)\n",
    "    corpus.append(text)"
   ]
  },
  {
   "cell_type": "code",
   "execution_count": 9,
   "metadata": {},
   "outputs": [],
   "source": [
    "documents['clean_content'] = corpus"
   ]
  },
  {
   "cell_type": "code",
   "execution_count": 10,
   "metadata": {},
   "outputs": [
    {
     "data": {
      "text/html": [
       "<div>\n",
       "<style scoped>\n",
       "    .dataframe tbody tr th:only-of-type {\n",
       "        vertical-align: middle;\n",
       "    }\n",
       "\n",
       "    .dataframe tbody tr th {\n",
       "        vertical-align: top;\n",
       "    }\n",
       "\n",
       "    .dataframe thead th {\n",
       "        text-align: right;\n",
       "    }\n",
       "</style>\n",
       "<table border=\"1\" class=\"dataframe\">\n",
       "  <thead>\n",
       "    <tr style=\"text-align: right;\">\n",
       "      <th></th>\n",
       "      <th>content</th>\n",
       "      <th>clean_content</th>\n",
       "    </tr>\n",
       "  </thead>\n",
       "  <tbody>\n",
       "    <tr>\n",
       "      <th>0</th>\n",
       "      <td>There are some lovely people here who'll help ...</td>\n",
       "      <td>love peopl help understand read make easier he...</td>\n",
       "    </tr>\n",
       "    <tr>\n",
       "      <th>1</th>\n",
       "      <td>\"Aha!!\" Answers - little chat, just post your ...</td>\n",
       "      <td>aha answer littl chat post favourit encourag r...</td>\n",
       "    </tr>\n",
       "    <tr>\n",
       "      <th>2</th>\n",
       "      <td>Most people seem to get started with the Yijin...</td>\n",
       "      <td>peopl seem get start yije ask relationship goo...</td>\n",
       "    </tr>\n",
       "    <tr>\n",
       "      <th>3</th>\n",
       "      <td>VisionThe I Ching Community is a warm and open...</td>\n",
       "      <td>visionth ching commun warm open place free wid...</td>\n",
       "    </tr>\n",
       "    <tr>\n",
       "      <th>4</th>\n",
       "      <td>This forum is for people to share their I Chin...</td>\n",
       "      <td>forum peopl share ching read exchang insight m...</td>\n",
       "    </tr>\n",
       "  </tbody>\n",
       "</table>\n",
       "</div>"
      ],
      "text/plain": [
       "                                             content  \\\n",
       "0  There are some lovely people here who'll help ...   \n",
       "1  \"Aha!!\" Answers - little chat, just post your ...   \n",
       "2  Most people seem to get started with the Yijin...   \n",
       "3  VisionThe I Ching Community is a warm and open...   \n",
       "4  This forum is for people to share their I Chin...   \n",
       "\n",
       "                                       clean_content  \n",
       "0  love peopl help understand read make easier he...  \n",
       "1  aha answer littl chat post favourit encourag r...  \n",
       "2  peopl seem get start yije ask relationship goo...  \n",
       "3  visionth ching commun warm open place free wid...  \n",
       "4  forum peopl share ching read exchang insight m...  "
      ]
     },
     "execution_count": 10,
     "metadata": {},
     "output_type": "execute_result"
    }
   ],
   "source": [
    "documents.head()"
   ]
  },
  {
   "cell_type": "code",
   "execution_count": 11,
   "metadata": {},
   "outputs": [],
   "source": [
    "processed_docs = documents.clean_content.str.split()"
   ]
  },
  {
   "cell_type": "code",
   "execution_count": 12,
   "metadata": {},
   "outputs": [
    {
     "data": {
      "text/plain": [
       "0        [love, peopl, help, understand, read, make, ea...\n",
       "1        [aha, answer, littl, chat, post, favourit, enc...\n",
       "2        [peopl, seem, get, start, yije, ask, relations...\n",
       "3        [visionth, ching, commun, warm, open, place, f...\n",
       "4        [forum, peopl, share, ching, read, exchang, in...\n",
       "                               ...                        \n",
       "16000    [blur, relationship, middl, unclear, break, as...\n",
       "16001    [second, time, commentari, read, point, view, ...\n",
       "16002    [ask, made, within, get, truli, want, life, fa...\n",
       "16003    [hello, join, littl, group, want, introduc, wo...\n",
       "16004    [two, month, stay, live, parent, work, home, o...\n",
       "Name: clean_content, Length: 16005, dtype: object"
      ]
     },
     "execution_count": 12,
     "metadata": {},
     "output_type": "execute_result"
    }
   ],
   "source": [
    "processed_docs"
   ]
  },
  {
   "cell_type": "code",
   "execution_count": 13,
   "metadata": {},
   "outputs": [],
   "source": [
    "dictionary=gensim.corpora.Dictionary(processed_docs)"
   ]
  },
  {
   "cell_type": "code",
   "execution_count": 14,
   "metadata": {},
   "outputs": [
    {
     "name": "stdout",
     "output_type": "stream",
     "text": [
      "0 actual\n",
      "1 ad\n",
      "2 address\n",
      "3 answer\n",
      "4 archiv\n",
      "5 ask\n",
      "6 aug\n",
      "7 b\n",
      "8 background\n",
      "9 besid\n",
      "10 brows\n",
      "11 click\n",
      "12 come\n",
      "13 contact\n",
      "14 context\n",
      "15 easier\n",
      "16 edit\n",
      "17 eg\n",
      "18 emphasi\n",
      "19 enough\n",
      "20 everyon\n"
     ]
    }
   ],
   "source": [
    "count=0\n",
    "for k,v in dictionary.iteritems():\n",
    "    print(k,v)\n",
    "    count+=1\n",
    "    if count>20:\n",
    "        break"
   ]
  },
  {
   "cell_type": "code",
   "execution_count": 15,
   "metadata": {},
   "outputs": [],
   "source": [
    "dictionary.filter_extremes(no_below=10,no_above=0.3,keep_n=1000)"
   ]
  },
  {
   "cell_type": "code",
   "execution_count": 16,
   "metadata": {},
   "outputs": [
    {
     "data": {
      "text/plain": [
       "1000"
      ]
     },
     "execution_count": 16,
     "metadata": {},
     "output_type": "execute_result"
    }
   ],
   "source": [
    "len(dictionary)"
   ]
  },
  {
   "cell_type": "code",
   "execution_count": 17,
   "metadata": {},
   "outputs": [
    {
     "data": {
      "text/plain": [
       "'apr'"
      ]
     },
     "execution_count": 17,
     "metadata": {},
     "output_type": "execute_result"
    }
   ],
   "source": [
    "dictionary[999]"
   ]
  },
  {
   "cell_type": "code",
   "execution_count": 18,
   "metadata": {},
   "outputs": [],
   "source": [
    "bow_corpus=[dictionary.doc2bow(doc) for doc in processed_docs]"
   ]
  },
  {
   "cell_type": "code",
   "execution_count": 19,
   "metadata": {},
   "outputs": [
    {
     "data": {
      "text/plain": [
       "16005"
      ]
     },
     "execution_count": 19,
     "metadata": {},
     "output_type": "execute_result"
    }
   ],
   "source": [
    "len(bow_corpus)"
   ]
  },
  {
   "cell_type": "code",
   "execution_count": 21,
   "metadata": {},
   "outputs": [
    {
     "name": "stdout",
     "output_type": "stream",
     "text": [
      "Word 11 (\"everyon\") appears 1 time.\n",
      "Word 17 (\"hexagram\") appears 3 time.\n",
      "Word 26 (\"need\") appears 1 time.\n",
      "Word 28 (\"peopl\") appears 1 time.\n",
      "Word 36 (\"result\") appears 2 time.\n",
      "Word 38 (\"say\") appears 1 time.\n",
      "Word 49 (\"understand\") appears 1 time.\n",
      "Word 59 (\"ching\") appears 1 time.\n",
      "Word 77 (\"give\") appears 1 time.\n",
      "Word 92 (\"mean\") appears 1 time.\n",
      "Word 99 (\"often\") appears 1 time.\n",
      "Word 104 (\"place\") appears 1 time.\n",
      "Word 109 (\"relationship\") appears 1 time.\n",
      "Word 121 (\"tell\") appears 1 time.\n",
      "Word 135 (\"alreadi\") appears 1 time.\n",
      "Word 166 (\"could\") appears 2 time.\n",
      "Word 193 (\"futur\") appears 1 time.\n",
      "Word 205 (\"lead\") appears 1 time.\n",
      "Word 213 (\"may\") appears 1 time.\n",
      "Word 229 (\"possibl\") appears 1 time.\n",
      "Word 233 (\"provid\") appears 1 time.\n",
      "Word 251 (\"stop\") appears 1 time.\n",
      "Word 260 (\"tri\") appears 1 time.\n",
      "Word 267 (\"without\") appears 1 time.\n",
      "Word 268 (\"work\") appears 1 time.\n",
      "Word 273 (\"action\") appears 1 time.\n",
      "Word 302 (\"given\") appears 1 time.\n",
      "Word 309 (\"job\") appears 1 time.\n",
      "Word 312 (\"left\") appears 1 time.\n",
      "Word 315 (\"mani\") appears 1 time.\n",
      "Word 342 (\"visit\") appears 1 time.\n",
      "Word 357 (\"around\") appears 1 time.\n",
      "Word 393 (\"detail\") appears 1 time.\n",
      "Word 419 (\"reach\") appears 1 time.\n",
      "Word 421 (\"similar\") appears 1 time.\n",
      "Word 462 (\"long\") appears 1 time.\n",
      "Word 465 (\"simpli\") appears 1 time.\n",
      "Word 479 (\"opportun\") appears 1 time.\n",
      "Word 488 (\"term\") appears 1 time.\n",
      "Word 490 (\"indic\") appears 1 time.\n",
      "Word 512 (\"repeat\") appears 1 time.\n",
      "Word 528 (\"continu\") appears 1 time.\n",
      "Word 602 (\"countri\") appears 1 time.\n",
      "Word 650 (\"import\") appears 1 time.\n",
      "Word 676 (\"particular\") appears 1 time.\n",
      "Word 682 (\"figur\") appears 1 time.\n",
      "Word 738 (\"area\") appears 1 time.\n",
      "Word 749 (\"wind\") appears 2 time.\n",
      "Word 763 (\"organ\") appears 3 time.\n",
      "Word 793 (\"point\") appears 1 time.\n",
      "Word 807 (\"variou\") appears 1 time.\n",
      "Word 849 (\"extrem\") appears 1 time.\n",
      "Word 873 (\"establish\") appears 2 time.\n",
      "Word 940 (\"straight\") appears 1 time.\n"
     ]
    }
   ],
   "source": [
    "bow_corpus_100=bow_corpus[100]\n",
    "for i in range(len(bow_corpus_100)):\n",
    "    print(\"Word {} (\\\"{}\\\") appears {} time.\".format(bow_corpus_100[i][0], \n",
    "                                                     dictionary[bow_corpus_100[i][0]], \n",
    "                                                     bow_corpus_100[i][1]))"
   ]
  },
  {
   "cell_type": "code",
   "execution_count": 22,
   "metadata": {},
   "outputs": [],
   "source": [
    "tfidf=models.TfidfModel(bow_corpus)"
   ]
  },
  {
   "cell_type": "code",
   "execution_count": 23,
   "metadata": {},
   "outputs": [],
   "source": [
    "corpus_tfidf=tfidf[bow_corpus]"
   ]
  },
  {
   "cell_type": "code",
   "execution_count": 24,
   "metadata": {},
   "outputs": [
    {
     "data": {
      "text/plain": [
       "[(11, 0.08297869630694811),\n",
       " (17, 0.1370132360948113),\n",
       " (26, 0.04835157266884867),\n",
       " (28, 0.06510638239107026),\n",
       " (36, 0.1698853831903319),\n",
       " (38, 0.04562325531109188),\n",
       " (49, 0.06501127121248618),\n",
       " (59, 0.06017703598141311),\n",
       " (77, 0.06681950211381063),\n",
       " (92, 0.04659187116447117),\n",
       " (99, 0.10991160795843409),\n",
       " (104, 0.07844841578266366),\n",
       " (109, 0.05099517351094465),\n",
       " (121, 0.06840810328339125),\n",
       " (135, 0.09728210466304113),\n",
       " (166, 0.1014568356330565),\n",
       " (193, 0.09173322481123904),\n",
       " (205, 0.10153984540353521),\n",
       " (213, 0.0752735810421925),\n",
       " (229, 0.08061184875054277),\n",
       " (233, 0.13565395374940917),\n",
       " (251, 0.09479976141285056),\n",
       " (260, 0.05538573278389249),\n",
       " (267, 0.08534379197338668),\n",
       " (268, 0.048480582348096886),\n",
       " (273, 0.09821618030549283),\n",
       " (302, 0.11033343152383869),\n",
       " (309, 0.07809678413507908),\n",
       " (312, 0.10062584476913333),\n",
       " (315, 0.073142445269371),\n",
       " (342, 0.13509115502249736),\n",
       " (357, 0.09270759965738716),\n",
       " (393, 0.133900818223394),\n",
       " (419, 0.12162965584201241),\n",
       " (421, 0.13408143195590816),\n",
       " (462, 0.070889219735031),\n",
       " (465, 0.12770350915718082),\n",
       " (479, 0.11866718648765191),\n",
       " (488, 0.1054855318457126),\n",
       " (490, 0.1142098072928608),\n",
       " (512, 0.14870221957276736),\n",
       " (528, 0.09669404459449712),\n",
       " (602, 0.12074041388305007),\n",
       " (650, 0.10414872207213388),\n",
       " (676, 0.1287048775160503),\n",
       " (682, 0.12260716113215032),\n",
       " (738, 0.13301095500663415),\n",
       " (749, 0.32348186139658075),\n",
       " (763, 0.48997053041386035),\n",
       " (793, 0.0862080603767523),\n",
       " (807, 0.15107807670243387),\n",
       " (849, 0.12949435733308684),\n",
       " (873, 0.3227116194490386),\n",
       " (940, 0.15331151312323685)]"
      ]
     },
     "execution_count": 24,
     "metadata": {},
     "output_type": "execute_result"
    }
   ],
   "source": [
    "corpus_tfidf[100]"
   ]
  },
  {
   "cell_type": "markdown",
   "metadata": {},
   "source": [
    "### Model"
   ]
  },
  {
   "cell_type": "code",
   "execution_count": 25,
   "metadata": {},
   "outputs": [],
   "source": [
    "lda_model_tfidf = gensim.models.LdaMulticore(corpus_tfidf, \n",
    "                                             num_topics=4, \n",
    "                                             id2word = dictionary, \n",
    "                                             passes = 2, \n",
    "                                             workers=4)"
   ]
  },
  {
   "cell_type": "code",
   "execution_count": 26,
   "metadata": {},
   "outputs": [
    {
     "data": {
      "text/plain": [
       "-6.52392729056418"
      ]
     },
     "execution_count": 26,
     "metadata": {},
     "output_type": "execute_result"
    }
   ],
   "source": [
    "lda_model_tfidf.log_perplexity(bow_corpus)"
   ]
  },
  {
   "cell_type": "code",
   "execution_count": 27,
   "metadata": {},
   "outputs": [
    {
     "name": "stdout",
     "output_type": "stream",
     "text": [
      "Topic: 0 Word: 0.007*\"relationship\" + 0.007*\"answer\" + 0.006*\"hex\" + 0.006*\"yi\" + 0.005*\"hexagram\" + 0.005*\"x\" + 0.005*\"seem\" + 0.005*\"interpret\" + 0.004*\"receiv\" + 0.004*\"situat\"\n",
      "\n",
      "\n",
      "Topic: 1 Word: 0.007*\"hexagram\" + 0.006*\"relationship\" + 0.005*\"pleas\" + 0.005*\"ching\" + 0.005*\"mean\" + 0.005*\"year\" + 0.004*\"answer\" + 0.004*\"seem\" + 0.004*\"want\" + 0.004*\"new\"\n",
      "\n",
      "\n",
      "Topic: 2 Word: 0.007*\"job\" + 0.005*\"work\" + 0.005*\"hexagram\" + 0.004*\"hex\" + 0.004*\"want\" + 0.004*\"good\" + 0.004*\"say\" + 0.004*\"realli\" + 0.004*\"need\" + 0.004*\"back\"\n",
      "\n",
      "\n",
      "Topic: 3 Word: 0.007*\"hexagram\" + 0.006*\"edit\" + 0.005*\"hex\" + 0.005*\"last\" + 0.004*\"move\" + 0.004*\"relationship\" + 0.004*\"mean\" + 0.004*\"good\" + 0.004*\"say\" + 0.004*\"yi\"\n",
      "\n",
      "\n"
     ]
    }
   ],
   "source": [
    "for idx, topic in lda_model_tfidf.print_topics(-1):\n",
    "    print(\"Topic: {} Word: {}\".format(idx, topic))\n",
    "    print(\"\\n\")"
   ]
  },
  {
   "cell_type": "code",
   "execution_count": 28,
   "metadata": {},
   "outputs": [
    {
     "data": {
      "text/plain": [
       "[(0, 0.037964877), (1, 0.03749353), (2, 0.038273867), (3, 0.8862677)]"
      ]
     },
     "execution_count": 28,
     "metadata": {},
     "output_type": "execute_result"
    }
   ],
   "source": [
    "a = lda_model_tfidf[corpus_tfidf[100]]\n",
    "a"
   ]
  },
  {
   "cell_type": "code",
   "execution_count": 29,
   "metadata": {},
   "outputs": [],
   "source": [
    "topic=[]\n",
    "for i in range(len(corpus_tfidf)):\n",
    "    a = lda_model_tfidf[corpus_tfidf[i]]\n",
    "    a.sort(key=lambda x: x[1],reverse=True)\n",
    "    topic.append([l[0] for l in a if l[1]>0.5])"
   ]
  },
  {
   "cell_type": "code",
   "execution_count": 30,
   "metadata": {},
   "outputs": [],
   "source": [
    "T = []\n",
    "for t in topic:\n",
    "    T.extend(t)"
   ]
  },
  {
   "cell_type": "code",
   "execution_count": 31,
   "metadata": {},
   "outputs": [
    {
     "name": "stdout",
     "output_type": "stream",
     "text": [
      "Topic 0 have 4349 times\n",
      "Topic 1 have 3606 times\n",
      "Topic 2 have 4983 times\n",
      "Topic 3 have 2850 times\n"
     ]
    }
   ],
   "source": [
    "for i in set(T):\n",
    "    print(f'Topic {i} have {T.count(i)} times')"
   ]
  },
  {
   "cell_type": "code",
   "execution_count": null,
   "metadata": {},
   "outputs": [],
   "source": []
  }
 ],
 "metadata": {
  "kernelspec": {
   "display_name": "Python 3",
   "language": "python",
   "name": "python3"
  },
  "language_info": {
   "codemirror_mode": {
    "name": "ipython",
    "version": 3
   },
   "file_extension": ".py",
   "mimetype": "text/x-python",
   "name": "python",
   "nbconvert_exporter": "python",
   "pygments_lexer": "ipython3",
   "version": "3.7.4"
  }
 },
 "nbformat": 4,
 "nbformat_minor": 4
}
